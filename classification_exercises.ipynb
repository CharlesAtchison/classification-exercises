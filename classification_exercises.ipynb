{
 "cells": [
  {
   "cell_type": "markdown",
   "id": "d7b86055",
   "metadata": {},
   "source": [
    "### 1. Create a pandas dataframe, `df_iris`, from this data."
   ]
  },
  {
   "cell_type": "code",
   "execution_count": 1,
   "id": "9bafb828",
   "metadata": {},
   "outputs": [],
   "source": [
    "import pandas as pd\n",
    "import os, env\n",
    "from pydataset import data\n",
    "\n",
    "df_iris = data('iris')\n",
    "\n",
    "# df_iris.head(3)\n",
    "# df_iris.shape\n",
    "# df_iris.info()\n",
    "# df_iris.describe()"
   ]
  },
  {
   "cell_type": "markdown",
   "id": "a0a1d2ba",
   "metadata": {},
   "source": [
    "* print the first 3 rows\n",
    "\n",
    "&nbsp;|Sepal.Length|Sepal.Width|Petal.Length|Petal.Width|Species\n",
    "-:|-:|-:|-:|-:|-:\n",
    "1|5.1|3.5|1.4|0.2|setosa\n",
    "2|4.9|3.0|1.4|0.2|setosa\n",
    "3|4.7|3.2|1.3|0.2|setosa\n",
    "\n",
    "* print the number of rows and columns (shape)\n",
    "    * `(150, 5)`\n",
    "\n",
    "* print the column names\n",
    "\n",
    "&nbsp;|Sepal.Length|Sepal.Width|Petal.Length|Petal.Width|Species\n",
    "-:|-:|-:|-:|-:|-:\n",
    "-| - | - | - | - | -\n",
    "\n",
    "* print the data type of each column\n",
    "\n",
    "&nbsp;| Column | Non-Null Count | Dtype  \n",
    "---|------|--------------|-----  \n",
    " 0|Sepal.Length|150 non-null|float64\n",
    " 1|Sepal.Width|150 non-null|float64\n",
    " 2|Petal.Length|150 non-null|float64\n",
    " 3|Petal.Width|150 non-null|float64\n",
    " 4|Species|150 non-null|object \n",
    "\n",
    "* print the summary statistics for each of the numeric variables. Would you recommend rescaling the data based on these statistics?\n",
    "\n",
    "    * ___Nope, i'll leave it just the way it is...___\n",
    "\n",
    "\n",
    "\n",
    "&nbsp;|Sepal.Length|Sepal.Width|Petal.Length|Petal.Width\n",
    "-:|-:|-:|-:|-:\n",
    "count|150.000000|150.000000|150.000000|150.000000\n",
    "mean|5.843333|3.057333|3.758000|1.199333\n",
    "std|0.828066|0.435866|1.765298|0.762238\n",
    "min|4.300000|2.000000|1.000000|0.100000\n",
    "25%|5.100000|2.800000|1.600000|0.300000\n",
    "50%|5.800000|3.000000|4.350000|1.300000\n",
    "75%|6.400000|3.300000|5.100000|1.800000\n",
    "max|7.900000|4.400000|6.900000|2.500000\n",
    "\n"
   ]
  },
  {
   "cell_type": "markdown",
   "id": "a7bf3299",
   "metadata": {},
   "source": [
    "### 2. Read the `Table1_CustDetails` table from the `Excel_Exercises.xlsx` file into a dataframe named `df_excel`.\n",
    "\n",
    "\n",
    "* print the number of rows of your original dataframe\n",
    "    * `(7049, 25)`\n",
    "\n",
    "* print the first 5 column names\n",
    "\n",
    "customer_id|gender|is_senior_citizen|partner|dependents\n",
    "-|-|-|-|-\n",
    "-|-|-|-|-\n",
    "    \n",
    "\n",
    "* print the column names that have a data type of object\n",
    "\n",
    "\n",
    "&nbsp;| Column | Non-Null Count | Dtype  \n",
    ":--|:-----|:-------------|:----|\n",
    "0|customer_id|7049 non-null|object \n",
    " 1|gender|7049 non-null|object \n",
    " 3|partner|7049 non-null|object \n",
    " 4|dependents|7049 non-null|object \n",
    " 8|payment_type|7049 non-null|object \n",
    " 11|churn|7049 non-null|object \n",
    " 19|start_date|7049 non-null|object \n",
    " 20|avg_monthly_charges|7049 non-null|object \n",
    " 21|matches_orig|7049 non-null|object \n",
    " 22|phone description|7049 non-null|object \n",
    " 23|internet_desciption|7049 non-null|object \n",
    " 24|contract_description|7049 non-null|object \n",
    "\n",
    "* compute the range for each of the numeric variables.\n",
    "\n",
    "|       |   is_senior_citizen |   phone_service |   internet_service |   contract_type |   monthly_charges |   total_charges |    tenure |   partner_depenents |\n",
    "|:------|--------------------:|----------------:|-------------------:|----------------:|------------------:|----------------:|----------:|--------------------:|\n",
    "| min   |            0        |        0        |           0        |        0        |           18.25   |          18.8   |    0      |             0       |\n",
    "| max   |            1        |        2        |           2        |        2        |          118.75   |        8684.8   |   79      |             3       |"
   ]
  },
  {
   "cell_type": "code",
   "execution_count": 2,
   "id": "0b3f463c",
   "metadata": {},
   "outputs": [],
   "source": [
    "df_excel = pd.read_csv('telco_csv_data.csv')\n",
    "df_excel_sample = df_excel.head(100)\n",
    "\n",
    "# df_excel.shape\n",
    "# df_excel.head(5)\n",
    "numeric = df_excel.select_dtypes(include=['int64', 'float64'])\n",
    "objs = df_excel.select_dtypes(include=['object'])\n",
    "# temp = numeric.describe()\n",
    "# print(objs.to_markdown())\n",
    "# print(objs.describe().to_markdown())\n",
    "\n",
    "    "
   ]
  },
  {
   "cell_type": "markdown",
   "id": "2432249b",
   "metadata": {},
   "source": [
    "### 3. Read the data from <a href='https://docs.google.com/spreadsheets/d/1Uhtml8KY19LILuZsrDtlsHHDC9wuDGUSe8LTEwvdI5g/edit#gid=341089357'>this google sheet</a> into a dataframe, `df_google`\n",
    "\n",
    "* print the first 3 rows\n",
    "\n",
    "|    |   PassengerId |   Survived |   Pclass | Name                                                | Sex    |   Age |   SibSp |   Parch | Ticket           |    Fare | Cabin   | Embarked   |\n",
    "|---:|--------------:|-----------:|---------:|:----------------------------------------------------|:-------|------:|--------:|--------:|:-----------------|--------:|:--------|:-----------|\n",
    "|  0 |             1 |          0 |        3 | Braund, Mr. Owen Harris                             | male   |    22 |       1 |       0 | A/5 21171        |  7.25   | nan     | S          |\n",
    "|  1 |             2 |          1 |        1 | Cumings, Mrs. John Bradley (Florence Briggs Thayer) | female |    38 |       1 |       0 | PC 17599         | 71.2833 | C85     | C          |\n",
    "|  2 |             3 |          1 |        3 | Heikkinen, Miss. Laina                              | female |    26 |       0 |       0 | STON/O2. 3101282 |  7.925  | nan     | S          |\n",
    "\n",
    "\n",
    "* print the number of rows and columns\n",
    "\n",
    "    * `(891, 12)`\n",
    "\n",
    "* print the column names\n",
    "\n",
    "\n",
    "PassengerId|Survived|Pclass|Name|Sex|Age|SibSp|Parch|Ticket|Fare|Cabin|Embarked\n",
    ":-|:-|:-|:-|:-|:-|:-|:-|:-|:-|:-|:-\n",
    "---|---|---|---|---|---|---|---|---|---|---|---\n",
    "\n",
    "\n",
    "* print the data type of each column\n",
    "|Column Name| Dtype|\n",
    "|:------------|:--------|\n",
    "| PassengerId | int64   |\n",
    "| Survived    | int64   |\n",
    "| Pclass      | int64   |\n",
    "| Name        | object  |\n",
    "| Sex         | object  |\n",
    "| Age         | float64 |\n",
    "| SibSp       | int64   |\n",
    "| Parch       | int64   |\n",
    "| Ticket      | object  |\n",
    "| Fare        | float64 |\n",
    "| Cabin       | object  |\n",
    "| Embarked    | object  |\n",
    "\n",
    "* print the summary statistics for each of the numeric variables\n",
    "|       |   PassengerId |   Survived |     Pclass |      Age |      SibSp |      Parch |     Fare |\n",
    "|:------|--------------:|-----------:|-----------:|---------:|-----------:|-----------:|---------:|\n",
    "| count |       891     | 891        | 891        | 714      | 891        | 891        | 891      |\n",
    "| mean  |       446     |   0.383838 |   2.30864  |  29.6991 |   0.523008 |   0.381594 |  32.2042 |\n",
    "| std   |       257.354 |   0.486592 |   0.836071 |  14.5265 |   1.10274  |   0.806057 |  49.6934 |\n",
    "| min   |         1     |   0        |   1        |   0.42   |   0        |   0        |   0      |\n",
    "| 25%   |       223.5   |   0        |   2        |  20.125  |   0        |   0        |   7.9104 |\n",
    "| 50%   |       446     |   0        |   3        |  28      |   0        |   0        |  14.4542 |\n",
    "| 75%   |       668.5   |   1        |   3        |  38      |   1        |   0        |  31      |\n",
    "| max   |       891     |   1        |   3        |  80      |   8        |   6        | 512.329  |\n",
    "\n",
    "\n",
    "* print the unique values for each of your categorical variables\n",
    "\n",
    "Survived |Survived|\n",
    "---:|-----------:|\n",
    "0 |        549 |\n",
    "1 |        342 |\n",
    "\n",
    "Pclass |Pclass |\n",
    "---:|---------:|\n",
    "3 |      491 |\n",
    "1 |      216 |\n",
    "2 |      184 |\n",
    "\n",
    "Sex |Sex |\n",
    ":-------|------:|\n",
    "male   |   577 |\n",
    "female |   314 |\n",
    "\n",
    "SibSp |SibSp |\n",
    "---:|--------:|\n",
    "0 |     608 |\n",
    "1 |     209 |\n",
    "2 |      28 |\n",
    "4 |      18 |\n",
    "3 |      16 |\n",
    "8 |       7 |\n",
    "5 |       5 |\n",
    "\n",
    "Parch |Parch |\n",
    "---:|--------:|\n",
    "0 |     678 |\n",
    "1 |     118 |\n",
    "2 |      80 |\n",
    "3 |       5 |\n",
    "5 |       5 |\n",
    "4 |       4 |\n",
    "6 |       1 |\n",
    "\n",
    "Embarked |Embarked |\n",
    ":---|-----------:|\n",
    "S  |        644 |\n",
    "C  |        168 |\n",
    "Q  |         77 |\n",
    "\n"
   ]
  },
  {
   "cell_type": "code",
   "execution_count": 3,
   "id": "7ce98a72",
   "metadata": {},
   "outputs": [],
   "source": [
    "sheet_url = 'https://docs.google.com/spreadsheets/d/1Uhtml8KY19LILuZsrDtlsHHDC9wuDGUSe8LTEwvdI5g/edit#gid=341089357'    \n",
    "\n",
    "csv_export_url = sheet_url.replace('/edit#gid=', '/export?format=csv&gid=')\n",
    "\n",
    "df_google = pd.read_csv(csv_export_url)\n",
    "\n",
    "# print(df_google.head(3).to_markdown())\n",
    "# df_google.shape\n",
    "# val = '|'.join(df_google.columns)\n",
    "# print(df_google.dtypes.to_markdown())\n",
    "# numeric = df_google.select_dtypes(include=['int64', 'float64'])\n",
    "# print(numeric.describe().to_markdown())\n",
    "\n",
    "# new_objs = df_google.drop(columns=['Name', 'Ticket', 'Cabin', 'PassengerId', 'Age', 'Fare'])\n",
    "\n",
    "# for each_column in new_objs.columns:\n",
    "#     temp = new_objs[f'{each_column}']\n",
    "#     print(each_column, temp.dropna().unique())\n",
    "\n"
   ]
  },
  {
   "cell_type": "markdown",
   "id": "b4e0392d",
   "metadata": {},
   "source": [
    "<center><h1>Titanic Database</h1></center>"
   ]
  },
  {
   "cell_type": "markdown",
   "id": "ad3c19f3",
   "metadata": {},
   "source": [
    "### 1. Make a function named `get_titanic_data` that returns the titanic data from the codeup data science database as a pandas data frame. Obtain your data from the _Codeup Data Science Database_.\n",
    "\n",
    "\n",
    "### Make a function named `get_iris_data` that returns the data from the `iris_db` on the codeup data science database as a pandas data frame. The returned data frame should include the actual name of the species in addition to the `species_id`. Obtain your data from the _Codeup Data Science Database_.\n",
    "\n",
    "### Once you've got your `get_titanic_data` and `get_iris_data` functions written, now it's time to add caching to them. To do this, edit the beginning of the function to check for a local filename like `titanic.csv` or `iris.csv`. If they exist, use the .csv file. If the file doesn't exist, then produce the SQL and pandas necessary to create a dataframe, then write the dataframe to a .csv file with the appropriate name."
   ]
  },
  {
   "cell_type": "code",
   "execution_count": 134,
   "id": "940adff6",
   "metadata": {},
   "outputs": [],
   "source": [
    "from acquire import get_iris_data, get_titanic_data\n",
    "\n",
    "titanic_df = get_titanic_data()\n",
    "iris_df = get_iris_data()\n"
   ]
  },
  {
   "cell_type": "markdown",
   "id": "b55f98a1",
   "metadata": {},
   "source": [
    "### 1. Acquire, prepare & split your data.\n",
    "\n"
   ]
  },
  {
   "cell_type": "code",
   "execution_count": 135,
   "id": "0f8034cf",
   "metadata": {},
   "outputs": [],
   "source": [
    "from prepare import prep_data\n",
    "from sklearn.model_selection import train_test_split\n",
    "\n",
    "df, dummy_df = prep_data(iris_df)\n",
    "\n",
    "df.replace({'species':{'setosa': 0, 'virginica': 1, 'versicolor': 2}}, inplace=True)\n",
    "\n",
    "def train_validate_test_split(df, target, seed=123):\n",
    "    '''\n",
    "    This function takes in a dataframe, the name of the target variable\n",
    "    (for stratification purposes), and an integer for a setting a seed\n",
    "    and splits the data into train, validate and test. \n",
    "    Test is 20% of the original dataset, validate is .30*.80= 24% of the \n",
    "    original dataset, and train is .70*.80= 56% of the original dataset. \n",
    "    The function returns, in this order, train, validate and test dataframes. \n",
    "    '''\n",
    "    train_validate, test = train_test_split(df, test_size=0.2, \n",
    "                                            random_state=seed, \n",
    "                                            stratify=df[target])\n",
    "    train, validate = train_test_split(train_validate, test_size=0.3, \n",
    "                                       random_state=seed,\n",
    "                                       stratify=train_validate[target])\n",
    "    return train, validate, test\n",
    "\n",
    "df_train, df_val, df_test = train_validate_test_split(df, target='species')\n"
   ]
  },
  {
   "cell_type": "markdown",
   "id": "3899ea88",
   "metadata": {},
   "source": [
    "### 2. Univariate Stats\n",
    "\n",
    "#### For each measurement type (quantitative variable): create a histogram, boxplot, & compute descriptive statistics (using .describe())."
   ]
  },
  {
   "cell_type": "code",
   "execution_count": 136,
   "id": "4131d429",
   "metadata": {
    "collapsed": true
   },
   "outputs": [
    {
     "data": {
      "image/png": "[encoded data removed]",
      "text/plain": [
       "<Figure size 144x144 with 1 Axes>"
      ]
     },
     "metadata": {
      "needs_background": "light"
     },
     "output_type": "display_data"
    },
    {
     "name": "stdout",
     "output_type": "stream",
     "text": [
      "   species  Count  Percent\n",
      "0        1     28    33.33\n",
      "1        0     28    33.33\n",
      "2        2     28    33.33\n",
      "_________________________________________________________________\n"
     ]
    },
    {
     "data": {
      "image/png": "[encoded data removed]",
      "text/plain": [
       "<Figure size 576x144 with 2 Axes>"
      ]
     },
     "metadata": {
      "needs_background": "light"
     },
     "output_type": "display_data"
    },
    {
     "name": "stdout",
     "output_type": "stream",
     "text": [
      "count    84.000000\n",
      "mean      5.904762\n",
      "std       0.811499\n",
      "min       4.400000\n",
      "25%       5.275000\n",
      "50%       5.800000\n",
      "75%       6.425000\n",
      "max       7.900000\n",
      "Name: sepal_length, dtype: float64\n"
     ]
    },
    {
     "data": {
      "image/png": "[encoded data removed]",
      "text/plain": [
       "<Figure size 576x144 with 2 Axes>"
      ]
     },
     "metadata": {
      "needs_background": "light"
     },
     "output_type": "display_data"
    },
    {
     "name": "stdout",
     "output_type": "stream",
     "text": [
      "count    84.000000\n",
      "mean      3.047619\n",
      "std       0.474018\n",
      "min       2.200000\n",
      "25%       2.700000\n",
      "50%       3.000000\n",
      "75%       3.400000\n",
      "max       4.400000\n",
      "Name: sepal_width, dtype: float64\n"
     ]
    },
    {
     "data": {
      "image/png": "[encoded data removed]",
      "text/plain": [
       "<Figure size 576x144 with 2 Axes>"
      ]
     },
     "metadata": {
      "needs_background": "light"
     },
     "output_type": "display_data"
    },
    {
     "name": "stdout",
     "output_type": "stream",
     "text": [
      "count    84.000000\n",
      "mean      3.770238\n",
      "std       1.746858\n",
      "min       1.200000\n",
      "25%       1.600000\n",
      "50%       4.250000\n",
      "75%       5.100000\n",
      "max       6.700000\n",
      "Name: petal_length, dtype: float64\n"
     ]
    },
    {
     "data": {
      "image/png": "[encoded data removed]",
      "text/plain": [
       "<Figure size 576x144 with 2 Axes>"
      ]
     },
     "metadata": {
      "needs_background": "light"
     },
     "output_type": "display_data"
    },
    {
     "name": "stdout",
     "output_type": "stream",
     "text": [
      "count    84.000000\n",
      "mean      1.182143\n",
      "std       0.729278\n",
      "min       0.100000\n",
      "25%       0.400000\n",
      "50%       1.300000\n",
      "75%       1.800000\n",
      "max       2.500000\n",
      "Name: petal_width, dtype: float64\n"
     ]
    }
   ],
   "source": [
    "import explore\n",
    "import seaborn as sns\n",
    "\n",
    "cat_vars = ['species']\n",
    "quant_vars = ['sepal_length', 'sepal_width', 'petal_length', 'petal_width']\n",
    "explore.explore_univariate(df_train, cat_vars, quant_vars)"
   ]
  },
  {
   "attachments": {
    "image-4.png": {
     "image/png": "[encoded data removed]"
    }
   },
   "cell_type": "markdown",
   "id": "043bca1d",
   "metadata": {},
   "source": [
    "\n",
    "#### For each species (categorical variable): create a frequency table and a bar plot of those frequencies.\n",
    "![image-4.png](attachment:image-4.png)\n",
    "\n",
    "<!-- ![image.png](attachment:image.png)\n",
    " -->"
   ]
  },
  {
   "cell_type": "code",
   "execution_count": 139,
   "id": "3c6c5a72",
   "metadata": {
    "scrolled": false
   },
   "outputs": [
    {
     "data": {
      "text/html": [
       "<div>\n",
       "<style scoped>\n",
       "    .dataframe tbody tr th:only-of-type {\n",
       "        vertical-align: middle;\n",
       "    }\n",
       "\n",
       "    .dataframe tbody tr th {\n",
       "        vertical-align: top;\n",
       "    }\n",
       "\n",
       "    .dataframe thead tr th {\n",
       "        text-align: left;\n",
       "    }\n",
       "\n",
       "    .dataframe thead tr:last-of-type th {\n",
       "        text-align: right;\n",
       "    }\n",
       "</style>\n",
       "<table border=\"1\" class=\"dataframe\">\n",
       "  <thead>\n",
       "    <tr>\n",
       "      <th></th>\n",
       "      <th>sepal_length</th>\n",
       "      <th>sepal_width</th>\n",
       "      <th>petal_length</th>\n",
       "      <th>petal_width</th>\n",
       "    </tr>\n",
       "    <tr>\n",
       "      <th></th>\n",
       "      <th>count</th>\n",
       "      <th>count</th>\n",
       "      <th>count</th>\n",
       "      <th>count</th>\n",
       "    </tr>\n",
       "    <tr>\n",
       "      <th>species</th>\n",
       "      <th></th>\n",
       "      <th></th>\n",
       "      <th></th>\n",
       "      <th></th>\n",
       "    </tr>\n",
       "  </thead>\n",
       "  <tbody>\n",
       "    <tr>\n",
       "      <th>0</th>\n",
       "      <td>50</td>\n",
       "      <td>50</td>\n",
       "      <td>50</td>\n",
       "      <td>50</td>\n",
       "    </tr>\n",
       "    <tr>\n",
       "      <th>1</th>\n",
       "      <td>50</td>\n",
       "      <td>50</td>\n",
       "      <td>50</td>\n",
       "      <td>50</td>\n",
       "    </tr>\n",
       "    <tr>\n",
       "      <th>2</th>\n",
       "      <td>50</td>\n",
       "      <td>50</td>\n",
       "      <td>50</td>\n",
       "      <td>50</td>\n",
       "    </tr>\n",
       "  </tbody>\n",
       "</table>\n",
       "</div>"
      ],
      "text/plain": [
       "        sepal_length sepal_width petal_length petal_width\n",
       "               count       count        count       count\n",
       "species                                                  \n",
       "0                 50          50           50          50\n",
       "1                 50          50           50          50\n",
       "2                 50          50           50          50"
      ]
     },
     "execution_count": 139,
     "metadata": {},
     "output_type": "execute_result"
    }
   ],
   "source": [
    "# sns.catplot(col='species', data=df, kind='bar')\n",
    "# df.groupby('species').agg(['count'])"
   ]
  },
  {
   "cell_type": "markdown",
   "id": "a5e82e14",
   "metadata": {},
   "source": [
    "#### Document takeaways & any actions.\n",
    "\n",
    "* Some takeaways & actions to view are there any relationships between sepal length and sepal width.\n",
    "\n",
    "* There's not as much variation between sepal width compared between the other attributes. \n",
    "\n"
   ]
  },
  {
   "cell_type": "markdown",
   "id": "cd5c945a",
   "metadata": {},
   "source": [
    "### Bivariate Stats\n",
    "\n",
    "#### Visualize each measurement type (y-axis) with the species variable (x-axis) using barplots, adding a horizontal line showing the overall mean of the metric (y-axis).\n",
    "\n",
    "#### For each measurement type, compute the descriptive statistics for each species.\n"
   ]
  },
  {
   "cell_type": "code",
   "execution_count": 138,
   "id": "33e36733",
   "metadata": {},
   "outputs": [
    {
     "name": "stdout",
     "output_type": "stream",
     "text": [
      "species \n",
      "_____________________\n",
      "\n",
      "    chi2       p-value  degrees of freedom\n",
      "0  168.0  2.809846e-35                   4\n",
      "\n",
      "observed:\n",
      " species   0   1   2  All\n",
      "species                 \n",
      "0        28   0   0   28\n",
      "1         0  28   0   28\n",
      "2         0   0  28   28\n",
      "All      28  28  28   84\n",
      "\n",
      "expected:\n",
      "           0         1         2\n",
      "0  9.333333  9.333333  9.333333\n",
      "1  9.333333  9.333333  9.333333\n",
      "2  9.333333  9.333333  9.333333\n"
     ]
    },
    {
     "name": "stderr",
     "output_type": "stream",
     "text": [
      "/usr/local/anaconda3/lib/python3.8/site-packages/seaborn/_decorators.py:36: FutureWarning: Pass the following variables as keyword args: x, y. From version 0.12, the only valid positional argument will be `data`, and passing other arguments without an explicit keyword will result in an error or misinterpretation.\n",
      "  warnings.warn(\n"
     ]
    },
    {
     "data": {
      "image/png": "[encoded data removed]",
      "text/plain": [
       "<Figure size 144x144 with 1 Axes>"
      ]
     },
     "metadata": {
      "needs_background": "light"
     },
     "output_type": "display_data"
    },
    {
     "name": "stdout",
     "output_type": "stream",
     "text": [
      "\n",
      "_____________________\n",
      "\n",
      "sepal_length \n",
      "____________________\n",
      "\n"
     ]
    },
    {
     "data": {
      "image/png": "[encoded data removed]",
      "text/plain": [
       "<Figure size 288x288 with 1 Axes>"
      ]
     },
     "metadata": {
      "needs_background": "light"
     },
     "output_type": "display_data"
    },
    {
     "name": "stdout",
     "output_type": "stream",
     "text": [
      "         count      mean       std  min    25%  50%   75%  max\n",
      "species                                                       \n",
      "0         28.0  5.089286  0.360390  4.4  4.875  5.0  5.40  5.8\n",
      "1         28.0  6.682143  0.579945  5.8  6.300  6.6  6.95  7.9\n",
      "2         28.0  5.942857  0.490222  4.9  5.600  5.9  6.20  7.0 \n",
      "\n",
      "\n",
      "Mann-Whitney Test:\n",
      " MannwhitneyuResult(statistic=1.0, pvalue=1.4434777280665842e-10)\n",
      "\n",
      "____________________\n",
      "\n",
      "sepal_width \n",
      "____________________\n",
      "\n"
     ]
    },
    {
     "data": {
      "image/png": "[encoded data removed]",
      "text/plain": [
       "<Figure size 288x288 with 1 Axes>"
      ]
     },
     "metadata": {
      "needs_background": "light"
     },
     "output_type": "display_data"
    },
    {
     "name": "stdout",
     "output_type": "stream",
     "text": [
      "         count      mean       std  min    25%   50%    75%  max\n",
      "species                                                         \n",
      "0         28.0  3.467857  0.427788  2.3  3.275  3.40  3.800  4.4\n",
      "1         28.0  2.953571  0.345856  2.2  2.700  3.00  3.100  3.8\n",
      "2         28.0  2.721429  0.292318  2.2  2.500  2.75  2.925  3.2 \n",
      "\n",
      "\n",
      "Mann-Whitney Test:\n",
      " MannwhitneyuResult(statistic=663.0, pvalue=8.272661237791779e-06)\n",
      "\n",
      "____________________\n",
      "\n",
      "petal_length \n",
      "____________________\n",
      "\n"
     ]
    },
    {
     "data": {
      "image/png": "[encoded data removed]",
      "text/plain": [
       "<Figure size 288x288 with 1 Axes>"
      ]
     },
     "metadata": {
      "needs_background": "light"
     },
     "output_type": "display_data"
    },
    {
     "name": "stdout",
     "output_type": "stream",
     "text": [
      "         count      mean       std  min    25%   50%    75%  max\n",
      "species                                                         \n",
      "0         28.0  1.507143  0.184448  1.2  1.400  1.50  1.600  1.9\n",
      "1         28.0  5.571429  0.513418  4.8  5.100  5.60  5.800  6.7\n",
      "2         28.0  4.232143  0.431237  3.3  3.975  4.25  4.525  5.1 \n",
      "\n",
      "\n",
      "Mann-Whitney Test:\n",
      " MannwhitneyuResult(statistic=0.0, pvalue=1.2865461324644214e-10)\n",
      "\n",
      "____________________\n",
      "\n",
      "petal_width \n",
      "____________________\n",
      "\n"
     ]
    },
    {
     "name": "stderr",
     "output_type": "stream",
     "text": [
      "/usr/local/anaconda3/lib/python3.8/site-packages/seaborn/categorical.py:1296: UserWarning: 10.7% of the points cannot be placed; you may want to decrease the size of the markers or use stripplot.\n",
      "  warnings.warn(msg, UserWarning)\n"
     ]
    },
    {
     "data": {
      "image/png": "[encoded data removed]",
      "text/plain": [
       "<Figure size 288x288 with 1 Axes>"
      ]
     },
     "metadata": {
      "needs_background": "light"
     },
     "output_type": "display_data"
    },
    {
     "name": "stdout",
     "output_type": "stream",
     "text": [
      "         count      mean       std  min  25%   50%  75%  max\n",
      "species                                                     \n",
      "0         28.0  0.275000  0.120570  0.1  0.2  0.20  0.4  0.6\n",
      "1         28.0  1.967857  0.274946  1.4  1.8  1.95  2.2  2.5\n",
      "2         28.0  1.303571  0.189506  1.0  1.2  1.30  1.4  1.8 \n",
      "\n",
      "\n",
      "Mann-Whitney Test:\n",
      " MannwhitneyuResult(statistic=0.0, pvalue=9.227797843961986e-11)\n",
      "\n",
      "____________________\n",
      "\n"
     ]
    }
   ],
   "source": [
    "\n",
    "explore.explore_bivariate(df_train, 'species', cat_vars, quant_vars)"
   ]
  },
  {
   "cell_type": "markdown",
   "id": "225966f9",
   "metadata": {},
   "source": [
    "#### For virginica & versicolor: Compare the mean petal_width using the Mann-Whitney test (scipy.stats.mannwhitneyu) to see if there is a significant difference between the two groups. Do the same for the other measurement types."
   ]
  },
  {
   "cell_type": "code",
   "execution_count": 143,
   "id": "cc7e3624",
   "metadata": {
    "collapsed": true
   },
   "outputs": [
    {
     "name": "stdout",
     "output_type": "stream",
     "text": [
      "species \n",
      "_____________________\n",
      "\n",
      "        chi2       p-value  degrees of freedom\n",
      "0  52.071429  5.351800e-13                   1\n",
      "\n",
      "observed:\n",
      " species   1   2  All\n",
      "species             \n",
      "1        28   0   28\n",
      "2         0  28   28\n",
      "All      28  28   56\n",
      "\n",
      "expected:\n",
      "       0     1\n",
      "0  14.0  14.0\n",
      "1  14.0  14.0\n"
     ]
    },
    {
     "name": "stderr",
     "output_type": "stream",
     "text": [
      "/usr/local/anaconda3/lib/python3.8/site-packages/seaborn/_decorators.py:36: FutureWarning: Pass the following variables as keyword args: x, y. From version 0.12, the only valid positional argument will be `data`, and passing other arguments without an explicit keyword will result in an error or misinterpretation.\n",
      "  warnings.warn(\n"
     ]
    },
    {
     "data": {
      "image/png": "[encoded data removed]",
      "text/plain": [
       "<Figure size 144x144 with 1 Axes>"
      ]
     },
     "metadata": {
      "needs_background": "light"
     },
     "output_type": "display_data"
    },
    {
     "name": "stdout",
     "output_type": "stream",
     "text": [
      "\n",
      "_____________________\n",
      "\n",
      "sepal_length \n",
      "____________________\n",
      "\n"
     ]
    },
    {
     "name": "stderr",
     "output_type": "stream",
     "text": [
      "/usr/local/anaconda3/lib/python3.8/site-packages/scipy/stats/stats.py:7171: RuntimeWarning: divide by zero encountered in double_scalars\n",
      "  z = (bigu - meanrank) / sd\n"
     ]
    },
    {
     "data": {
      "image/png": "[encoded data removed]",
      "text/plain": [
       "<Figure size 288x288 with 1 Axes>"
      ]
     },
     "metadata": {
      "needs_background": "light"
     },
     "output_type": "display_data"
    },
    {
     "name": "stdout",
     "output_type": "stream",
     "text": [
      "         count      mean       std  min  25%  50%   75%  max\n",
      "species                                                     \n",
      "1         28.0  6.682143  0.579945  5.8  6.3  6.6  6.95  7.9\n",
      "2         28.0  5.942857  0.490222  4.9  5.6  5.9  6.20  7.0 \n",
      "\n",
      "\n",
      "Mann-Whitney Test:\n",
      " MannwhitneyuResult(statistic=0.0, pvalue=0.0)\n",
      "\n",
      "____________________\n",
      "\n",
      "sepal_width \n",
      "____________________\n",
      "\n"
     ]
    },
    {
     "name": "stderr",
     "output_type": "stream",
     "text": [
      "/usr/local/anaconda3/lib/python3.8/site-packages/scipy/stats/stats.py:7171: RuntimeWarning: divide by zero encountered in double_scalars\n",
      "  z = (bigu - meanrank) / sd\n"
     ]
    },
    {
     "data": {
      "image/png": "[encoded data removed]",
      "text/plain": [
       "<Figure size 288x288 with 1 Axes>"
      ]
     },
     "metadata": {
      "needs_background": "light"
     },
     "output_type": "display_data"
    },
    {
     "name": "stdout",
     "output_type": "stream",
     "text": [
      "         count      mean       std  min  25%   50%    75%  max\n",
      "species                                                       \n",
      "1         28.0  2.953571  0.345856  2.2  2.7  3.00  3.100  3.8\n",
      "2         28.0  2.721429  0.292318  2.2  2.5  2.75  2.925  3.2 \n",
      "\n",
      "\n",
      "Mann-Whitney Test:\n",
      " MannwhitneyuResult(statistic=0.0, pvalue=0.0)\n",
      "\n",
      "____________________\n",
      "\n",
      "petal_length \n",
      "____________________\n",
      "\n"
     ]
    },
    {
     "name": "stderr",
     "output_type": "stream",
     "text": [
      "/usr/local/anaconda3/lib/python3.8/site-packages/scipy/stats/stats.py:7171: RuntimeWarning: divide by zero encountered in double_scalars\n",
      "  z = (bigu - meanrank) / sd\n"
     ]
    },
    {
     "data": {
      "image/png": "[encoded data removed]",
      "text/plain": [
       "<Figure size 288x288 with 1 Axes>"
      ]
     },
     "metadata": {
      "needs_background": "light"
     },
     "output_type": "display_data"
    },
    {
     "name": "stdout",
     "output_type": "stream",
     "text": [
      "         count      mean       std  min    25%   50%    75%  max\n",
      "species                                                         \n",
      "1         28.0  5.571429  0.513418  4.8  5.100  5.60  5.800  6.7\n",
      "2         28.0  4.232143  0.431237  3.3  3.975  4.25  4.525  5.1 \n",
      "\n",
      "\n",
      "Mann-Whitney Test:\n",
      " MannwhitneyuResult(statistic=0.0, pvalue=0.0)\n",
      "\n",
      "____________________\n",
      "\n",
      "petal_width \n",
      "____________________\n",
      "\n"
     ]
    },
    {
     "name": "stderr",
     "output_type": "stream",
     "text": [
      "/usr/local/anaconda3/lib/python3.8/site-packages/scipy/stats/stats.py:7171: RuntimeWarning: divide by zero encountered in double_scalars\n",
      "  z = (bigu - meanrank) / sd\n"
     ]
    },
    {
     "data": {
      "image/png": "[encoded data removed]",
      "text/plain": [
       "<Figure size 288x288 with 1 Axes>"
      ]
     },
     "metadata": {
      "needs_background": "light"
     },
     "output_type": "display_data"
    },
    {
     "name": "stdout",
     "output_type": "stream",
     "text": [
      "         count      mean       std  min  25%   50%  75%  max\n",
      "species                                                     \n",
      "1         28.0  1.967857  0.274946  1.4  1.8  1.95  2.2  2.5\n",
      "2         28.0  1.303571  0.189506  1.0  1.2  1.30  1.4  1.8 \n",
      "\n",
      "\n",
      "Mann-Whitney Test:\n",
      " MannwhitneyuResult(statistic=0.0, pvalue=0.0)\n",
      "\n",
      "____________________\n",
      "\n"
     ]
    }
   ],
   "source": [
    "# drop 'setosa' -> 0 results for species\n",
    "explore.explore_bivariate(df_train[(df_train.species != 0)], 'species', cat_vars, quant_vars)"
   ]
  },
  {
   "cell_type": "markdown",
   "id": "04c8dc60",
   "metadata": {},
   "source": [
    "#### Document takeaways & any actions.\n",
    "\n",
    "* Petal length and width seem like they could possibly be good predictors of the iris species.\n",
    "\n",
    "* Not including sepal length and width could possibly speed things up if there were more observations, due to not as significant variations."
   ]
  },
  {
   "cell_type": "markdown",
   "id": "edb8727d",
   "metadata": {},
   "source": [
    "### Multivariate Stats\n",
    "\n",
    "#### Visualize the interaction of each measurement type with the others using a pairplot (or scatter matrix or something similar) and add color to represent species.\n",
    "\n",
    "#### Create a swarmplot using a melted dataframe of all your numeric variables. The x-axis should be the variable name, the y-axis the measure. Add another dimension using color to represent species. Document takeaways from this visualization.\n",
    "\n",
    "#### Ask a specific question of the data, such as: is the sepal area signficantly different in virginica compared to setosa? Answer the question through both a plot and using a mann-whitney or t-test. If you use a t-test, be sure assumptions are met (independence, normality, equal variance).\n",
    "\n",
    "#### Document takeaways and any actions."
   ]
  }
 ],
 "metadata": {
  "kernelspec": {
   "display_name": "Python 3",
   "language": "python",
   "name": "python3"
  },
  "language_info": {
   "codemirror_mode": {
    "name": "ipython",
    "version": 3
   },
   "file_extension": ".py",
   "mimetype": "text/x-python",
   "name": "python",
   "nbconvert_exporter": "python",
   "pygments_lexer": "ipython3",
   "version": "3.8.8"
  }
 },
 "nbformat": 4,
 "nbformat_minor": 5
}
