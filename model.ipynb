{
 "cells": [
  {
   "cell_type": "markdown",
   "id": "f623e741",
   "metadata": {},
   "source": [
    "# <center>Decision Tree Exercises</center>"
   ]
  },
  {
   "cell_type": "code",
   "execution_count": 1,
   "id": "691560ef",
   "metadata": {},
   "outputs": [],
   "source": [
    "import warnings\n",
    "warnings.filterwarnings(\"ignore\")\n",
    "\n",
    "import numpy as np\n",
    "\n",
    "from pydataset import data\n",
    "\n",
    "from sklearn.model_selection import train_test_split\n",
    "from sklearn.tree import DecisionTreeClassifier\n",
    "from sklearn.tree import export_graphviz\n",
    "from sklearn.metrics import classification_report\n",
    "from sklearn.metrics import confusion_matrix\n",
    "\n",
    "import matplotlib.pyplot as plt\n",
    "%matplotlib inline\n",
    "import seaborn as sns"
   ]
  },
  {
   "cell_type": "markdown",
   "id": "32fac80e",
   "metadata": {},
   "source": [
    "Fit the decision tree classifier to your training sample and transform (i.e. make predictions on the training sample)\n",
    "\n",
    "Evaluate your in-sample results using the model score, confusion matrix, and classification report.\n",
    "\n",
    "Compute: Accuracy, true positive rate, false positive rate, true negative rate, false negative rate, precision, recall, f1-score, and support.\n",
    "\n",
    "Run through steps 2-4 using a different max_depth value.\n",
    "\n",
    "Which model performs better on your in-sample data?\n",
    "\n",
    "Which model performs best on your out-of-sample data, the validate set?\n",
    "\n",
    "Work through these same exercises using the Telco dataset.\n",
    "Experiment with this model on other datasets with a higher number of output classes."
   ]
  },
  {
   "cell_type": "markdown",
   "id": "27bb90b5",
   "metadata": {},
   "source": [
    "### Using the titanic data, in your classification-exercises repository, create a notebook, model.ipynb where you will do the following:"
   ]
  },
  {
   "cell_type": "code",
   "execution_count": 2,
   "id": "e46a6041",
   "metadata": {},
   "outputs": [],
   "source": [
    "import pandas as pd\n",
    "import acquire, prepare\n",
    "\n",
    "titanic_df = acquire.get_titanic_data()\n",
    "titanic_df.drop(columns=['Unnamed: 0'], inplace=True)"
   ]
  },
  {
   "cell_type": "markdown",
   "id": "f75a640e",
   "metadata": {},
   "source": [
    "### What is your baseline prediction? What is your baseline accuracy? remember: your baseline prediction for a classification problem is predicting the most prevelant class in the training dataset (the mode). When you make those predictions, what is your accuracy? This is your baseline accuracy."
   ]
  },
  {
   "cell_type": "code",
   "execution_count": 25,
   "id": "3d3e7030",
   "metadata": {},
   "outputs": [],
   "source": [
    "def confusion_table(df: pd.DataFrame) -> str:\n",
    "    '''Takes DataFrame and prints a formatted Confusion Table/Matrix in\n",
    "    markdown for Juypter notebooks. The first column must be the actual values and all\n",
    "    the other columns have to be model values or predicted values.\n",
    "    \n",
    "    Parameters\n",
    "    ----------\n",
    "    \n",
    "    df : pandas DataFrame\n",
    "        Requires the 'actual' values to be the first column \n",
    "        and all other columns to be the predicted values.\n",
    "        \n",
    "    Returns\n",
    "    -------\n",
    "    str \n",
    "        string that is formatted with HTML and markdown\n",
    "        for Juypter Notebooks so that it can be copied and pasted into a \n",
    "        markdown cell and easier to view the values.\n",
    "        \n",
    "    '''\n",
    "    result = str()\n",
    "    table_names = str()\n",
    "    tables = str()\n",
    "    actual = df.columns[0]\n",
    "    col_names = [str(col) for col in df.columns if col != actual]\n",
    "    for col in col_names:\n",
    "        table_names += f'<th><center>{str(col.capitalize())}</center></th>'\n",
    "    for col in col_names:\n",
    "        \n",
    "        # Crosstab the model row vs the actual values\n",
    "        val = pd.crosstab(df[col], df[actual], rownames=['Pred'], colnames=['Actual']).reset_index()\n",
    "        \n",
    "        # Generate report values, precision, recall, accuracy\n",
    "        report = pd.DataFrame(classification_report(df[actual], df[col], output_dict=True))\n",
    "        \n",
    "        # Get all the uniques in a list\n",
    "        uniques = [str(col) for col in val.columns if col not in ['Pred']]\n",
    "        \n",
    "        # Make a line break in table for Accuracy\n",
    "        accuracy_row = ['Accuracy']\n",
    "        accuracy_row.extend(['-----' for n in range(len(uniques))])\n",
    "        accuracy_row[-1] = report.accuracy[0] * 100\n",
    "        \n",
    "        # Ensure all columns names are strings\n",
    "        val = val.rename(columns=lambda x: str(x))\n",
    "        \n",
    "        # Create a divider of len n\n",
    "        divider = ['-----' for n in range(len(uniques)+1)]\n",
    "        val.loc[len(val.index)] = divider\n",
    "        # Input the accuracy\n",
    "        val.loc[len(val.index)] = accuracy_row\n",
    "        val.loc[len(val.index)] = divider\n",
    "        \n",
    "        for unique in uniques:\n",
    "            # Iterate through all uniques and fetch their precision and \n",
    "            # Recall values to put into the table.\n",
    "            precision = report[str(unique)][0] * 100\n",
    "            recall = report[str(unique)][1] * 100\n",
    "            df2 = [{'Pred': 'Precision', unique: precision},\n",
    "                  {'Pred': 'Recall', unique: recall}]\n",
    "            \n",
    "            # Add the values to the bottom of the table\n",
    "            val = val.append(df2, ignore_index=True)\n",
    "        \n",
    "        # Collapse the index under Pred to have the table smaller\n",
    "        new_df = val.set_index('Pred')\n",
    "        # Put the table to markdown\n",
    "        tab = new_df.to_markdown()\n",
    "        \n",
    "        \n",
    "        tables += f'<td>\\n\\n{tab}\\n\\n</td>\\n\\n'\n",
    "\n",
    "    result += f'''<table>\n",
    "    <tr>{table_names}</tr>\n",
    "    <tr>{tables}</tr></table>'''\n",
    "\n",
    "    return result"
   ]
  },
  {
   "cell_type": "code",
   "execution_count": 26,
   "id": "8efd53f5",
   "metadata": {},
   "outputs": [
    {
     "data": {
      "text/markdown": [
       "<table>\n",
       "    <tr><th><center>Baseline</center></th></tr>\n",
       "    <tr><td>\n",
       "\n",
       "| Pred      | 0     | 1                 |\n",
       "|:----------|:------|:------------------|\n",
       "| 1         | 307   | 191               |\n",
       "| -----     | ----- | -----             |\n",
       "| Accuracy  | ----- | 38.35341365461847 |\n",
       "| -----     | ----- | -----             |\n",
       "| Precision | 0.0   | nan               |\n",
       "| Recall    | 0.0   | nan               |\n",
       "| Precision | nan   | 38.35341365461847 |\n",
       "| Recall    | nan   | 100.0             |\n",
       "\n",
       "</td>\n",
       "\n",
       "</tr></table>"
      ],
      "text/plain": [
       "<IPython.core.display.Markdown object>"
      ]
     },
     "execution_count": 26,
     "metadata": {},
     "output_type": "execute_result"
    }
   ],
   "source": [
    "# from data_evaluation import confusion_table\n",
    "from IPython.display import Markdown\n",
    "train, validate, test = acquire.train_validate_test_split(titanic_df, target='survived')\n",
    "\n",
    "\n",
    "# Create X & y version of train, validate, test where y is just the\n",
    "# Series with the target variable and X is all of the features\n",
    "\n",
    "train['baseline'] = 1\n",
    "\n",
    "X_train= train.drop(columns=['survived'])\n",
    "y_train = train.survived\n",
    "\n",
    "X_validate = validate.drop(columns=['survived'])\n",
    "y_validate = validate.survived\n",
    "\n",
    "X_test = test.drop(columns=['survived'])\n",
    "y_test = test.survived\n",
    "\n",
    "ipt = train[['survived', 'baseline']]\n",
    "\n",
    "ipt\n",
    "pd.DataFrame(classification_report(train.survived, train.baseline, output_dict=True))\n",
    "Markdown(confusion_table(ipt))\n",
    "\n",
    "# pd.crosstab(train.baseline, train.survived, rownames=['Pred'], colnames=['Actual'])\n"
   ]
  }
 ],
 "metadata": {
  "kernelspec": {
   "display_name": "Python 3",
   "language": "python",
   "name": "python3"
  },
  "language_info": {
   "codemirror_mode": {
    "name": "ipython",
    "version": 3
   },
   "file_extension": ".py",
   "mimetype": "text/x-python",
   "name": "python",
   "nbconvert_exporter": "python",
   "pygments_lexer": "ipython3",
   "version": "3.8.8"
  }
 },
 "nbformat": 4,
 "nbformat_minor": 5
}
