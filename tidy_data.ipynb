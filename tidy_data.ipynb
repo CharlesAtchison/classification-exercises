{
 "cells": [
  {
   "cell_type": "markdown",
   "id": "2ea51ee6",
   "metadata": {},
   "source": [
    "# Tidy Data Exercises"
   ]
  },
  {
   "cell_type": "code",
   "execution_count": 1,
   "id": "81c0e89e",
   "metadata": {},
   "outputs": [],
   "source": [
    "import pandas as pd\n",
    "import numpy as np\n",
    "import seaborn as sns\n",
    "from pydataset import data"
   ]
  },
  {
   "cell_type": "markdown",
   "id": "c139414f",
   "metadata": {},
   "source": [
    "### 1. Attendance Data\n",
    "\n",
    "Load the `attendance.csv` file and calculate an attendance percentage for each student. One half day is worth 50% of a full day, and 10 tardies is equal to one absence.\n",
    "\n",
    "You should end up with something like this:\n",
    "\n",
    "<code>name\n",
    "Billy    0.5250\n",
    "Jane     0.6875\n",
    "John     0.9125\n",
    "Sally    0.7625\n",
    "Name: grade, dtype: float64</code>\n"
   ]
  },
  {
   "cell_type": "code",
   "execution_count": 20,
   "id": "ffb7f535",
   "metadata": {},
   "outputs": [
    {
     "ename": "SyntaxError",
     "evalue": "invalid syntax (<ipython-input-20-a8456982709c>, line 2)",
     "output_type": "error",
     "traceback": [
      "\u001b[0;36m  File \u001b[0;32m\"<ipython-input-20-a8456982709c>\"\u001b[0;36m, line \u001b[0;32m2\u001b[0m\n\u001b[0;31m    attendance_df.rename(columns={'Unnamed: 0':'name', inplace=True)\u001b[0m\n\u001b[0m                                                              ^\u001b[0m\n\u001b[0;31mSyntaxError\u001b[0m\u001b[0;31m:\u001b[0m invalid syntax\n"
     ]
    }
   ],
   "source": [
    "attendance_df = pd.read_csv('untidy-data/attendance.csv')\n",
    "attendance_df.rename(columns={'Unnamed: 0':'name', inplace=True)\n",
    "attendance_df\n",
    "# attendance_df.melt(id_vars=['name'],\n",
    "#                   var_name='date',\n",
    "#                   value_name='status')"
   ]
  },
  {
   "cell_type": "code",
   "execution_count": null,
   "id": "b870f97d",
   "metadata": {},
   "outputs": [],
   "source": []
  },
  {
   "cell_type": "markdown",
   "id": "c9035160",
   "metadata": {},
   "source": [
    "### 2. Coffee Levels\n",
    "\n",
    "*  Read the `coffee_levels.csv` file.\n",
    "    \n",
    "    \n",
    "* Transform the data so that each carafe is in it's own column.\n",
    "    \n",
    "    \n",
    "* Is this the best shape for the data?"
   ]
  },
  {
   "cell_type": "markdown",
   "id": "2815b972",
   "metadata": {},
   "source": [
    "### 3. Cake Recipes\n",
    "\n",
    "* Read the `cake_recipes.csv` data. This data set contains cake tastiness scores for combinations of different recipes, oven rack positions, and oven temperatures.\n",
    "\n",
    "\n",
    "* Tidy the data as necessary.\n",
    "\n",
    "\n",
    "* Which recipe, on average, is the best? recipe b\n",
    "\n",
    "\n",
    "* Which oven temperature, on average, produces the best results? 275\n",
    "\n",
    "\n",
    "* Which combination of recipe, rack position, and temperature gives the best result? recipe b, bottom rack, 300 degrees"
   ]
  }
 ],
 "metadata": {
  "kernelspec": {
   "display_name": "Python 3",
   "language": "python",
   "name": "python3"
  },
  "language_info": {
   "codemirror_mode": {
    "name": "ipython",
    "version": 3
   },
   "file_extension": ".py",
   "mimetype": "text/x-python",
   "name": "python",
   "nbconvert_exporter": "python",
   "pygments_lexer": "ipython3",
   "version": "3.8.8"
  }
 },
 "nbformat": 4,
 "nbformat_minor": 5
}
