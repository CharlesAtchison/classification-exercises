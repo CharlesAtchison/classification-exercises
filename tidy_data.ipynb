{
 "cells": [
  {
   "cell_type": "markdown",
   "id": "2ea51ee6",
   "metadata": {},
   "source": [
    "# Tidy Data Exercises"
   ]
  },
  {
   "cell_type": "code",
   "execution_count": 1,
   "id": "fd805981",
   "metadata": {},
   "outputs": [],
   "source": [
    "import pandas as pd\n",
    "import numpy as np\n",
    "import seaborn as sns\n",
    "from pydataset import data"
   ]
  },
  {
   "cell_type": "markdown",
   "id": "c139414f",
   "metadata": {},
   "source": [
    "### 1. Attendance Data\n",
    "\n",
    "Load the `attendance.csv` file and calculate an attendance percentage for each student. One half day is worth 50% of a full day, and 10 tardies is equal to one absence.\n",
    "\n",
    "You should end up with something like this:\n",
    "\n",
    "<code>name\n",
    "Billy    0.5250\n",
    "Jane     0.6875\n",
    "John     0.9125\n",
    "Sally    0.7625\n",
    "Name: grade, dtype: float64</code>\n",
    "\n",
    "\n",
    "\n",
    "### Result:\n",
    "\n",
    "\n",
    "| name   |   status |\n",
    "|:-------|---------:|\n",
    "| Billy  |   0.525  |\n",
    "| Jane   |   0.6875 |\n",
    "| John   |   0.9125 |\n",
    "| Sally  |   0.7625 |\n"
   ]
  },
  {
   "cell_type": "code",
   "execution_count": 2,
   "id": "11046e16",
   "metadata": {},
   "outputs": [],
   "source": [
    "attendance_df = pd.read_csv('untidy-data/attendance.csv')\n",
    "attendance_df.rename(columns={'Unnamed: 0':'name'}, inplace=True)\n",
    "att_cln = attendance_df.melt(id_vars=['name'],\n",
    "                  var_name='date',\n",
    "                  value_name='status')\n",
    "\n",
    "att_cln.replace({'status': {'P': 1, 'H': .5, 'T': .9, 'A': 0}}, inplace=True)\n",
    "# print(att_cln.groupby('name').mean().to_markdown())"
   ]
  },
  {
   "cell_type": "code",
   "execution_count": null,
   "id": "26f9eb67",
   "metadata": {},
   "outputs": [],
   "source": []
  },
  {
   "cell_type": "markdown",
   "id": "c9035160",
   "metadata": {},
   "source": [
    "### 2. Coffee Levels\n",
    "\n",
    "*  Read the `coffee_levels.csv` file.\n",
    "\n",
    "|    |   hour | coffee_carafe   |   coffee_amount |\n",
    "|---:|-------:|:----------------|----------------:|\n",
    "|  0 |      8 | x               |        0.816164 |\n",
    "|  1 |      9 | x               |        0.451018 |\n",
    "|  2 |     10 | x               |        0.843279 |\n",
    "|  3 |     11 | x               |        0.335533 |\n",
    "|  4 |     12 | x               |        0.898291 |\n",
    "    \n",
    "    \n",
    "* Transform the data so that each carafe is in it's own column.\n",
    "\n",
    "\n",
    "|   hour |        x |         y |        z |\n",
    "|-------:|---------:|----------:|---------:|\n",
    "|      8 | 0.816164 | 0.189297  | 0.999264 |\n",
    "|      9 | 0.451018 | 0.521502  | 0.91599  |\n",
    "|     10 | 0.843279 | 0.0231628 | 0.144928 |\n",
    "|     11 | 0.335533 | 0.235529  | 0.311495 |\n",
    "|     12 | 0.898291 | 0.0170092 | 0.771947 |\n",
    "|     13 | 0.310711 | 0.997464  | 0.39852  |\n",
    "|     14 | 0.507288 | 0.0583609 | 0.864464 |\n",
    "|     15 | 0.215043 | 0.144644  | 0.436364 |\n",
    "|     16 | 0.183891 | 0.544676  | 0.280621 |\n",
    "|     17 | 0.39156  | 0.594126  | 0.436677 |\n",
    "\n",
    "    \n",
    "    \n",
    "* Is this the best shape for the data?\n",
    "    * ___Answer:___ I'm still not exactly sure what the data is derived from, particularly the `hour` column. However, it does seem to be an easier format to deal with."
   ]
  },
  {
   "cell_type": "code",
   "execution_count": 3,
   "id": "f35b78eb",
   "metadata": {},
   "outputs": [],
   "source": [
    "coff_df = pd.read_csv('untidy-data/coffee_levels.csv')\n",
    "# print(coff_df.head().to_markdown())\n",
    "# print(coff_df.pivot_table(index=['hour'],\n",
    "#                    columns='coffee_carafe',\n",
    "#                    values='coffee_amount').to_markdown())\n"
   ]
  },
  {
   "cell_type": "markdown",
   "id": "2815b972",
   "metadata": {},
   "source": [
    "### 3. Cake Recipes\n",
    "\n",
    "* Read the `cake_recipes.csv` data. This data set contains cake tastiness scores for combinations of different recipes, oven rack positions, and oven temperatures.\n",
    "\n",
    "|    | recipe:position   |     225 |     250 |     275 |     300 |\n",
    "|---:|:------------------|--------:|--------:|--------:|--------:|\n",
    "|  0 | a:bottom          | 61.7387 | 53.9126 | 74.4147 | 98.7868 |\n",
    "|  1 | a:top             | 51.7098 | 52.0097 | 68.5769 | 50.2285 |\n",
    "|  2 | b:bottom          | 57.0953 | 61.9044 | 61.197  | 99.2485 |\n",
    "|  3 | b:top             | 82.455  | 95.2242 | 98.5949 | 58.1693 |\n",
    "|  4 | c:bottom          | 96.4702 | 52.0014 | 92.8932 | 65.4731 |\n",
    "\n",
    "\n",
    "* Tidy the data as necessary.\n",
    "\n",
    "\n",
    "* Which recipe, on average, is the best? recipe b\n",
    "\n",
    "|    | recipe   |   score |\n",
    "|---:|:---------|--------:|\n",
    "|  1 | b        | 76.7361 |\n",
    "\n",
    "* Which oven temperature, on average, produces the best results? 275\n",
    "\n",
    "|    |   oven_temp |   score |\n",
    "|---:|------------:|--------:|\n",
    "|  2 |         275 | 74.8868 |\n",
    "\n",
    "* Which combination of recipe, rack position, and temperature gives the best result? recipe b, bottom rack, 300 degrees\n",
    "\n",
    "|    | recipe   | position   |   oven_temp |   score |\n",
    "|---:|:---------|:-----------|------------:|--------:|\n",
    "| 26 | b        | bottom     |         300 | 99.2485 |\n",
    "\n"
   ]
  },
  {
   "cell_type": "code",
   "execution_count": 4,
   "id": "7518e6cc",
   "metadata": {},
   "outputs": [],
   "source": [
    "cake_df = pd.read_csv('untidy-data/cake_recipes.csv')\n",
    "# print(cake_df.head().to_markdown())\n",
    "cake_df[['recipe', 'position']] = cake_df['recipe:position'].str.split(':', expand = True)\n",
    "cake_df.drop(columns='recipe:position', inplace=True)\n",
    "tidy_cake = cake_df.melt(id_vars=['recipe', 'position'],\n",
    "             var_name = 'oven_temp',\n",
    "             value_name = 'score')\n",
    "\n",
    "# print(tidy_cake.groupby('oven_temp').agg('mean').reset_index().sort_values(by='score', ascending=False).head(n=1).to_markdown())\n",
    "# print(tidy_cake.sort_values(by='score', ascending=False).head(n=1).to_markdown())\n"
   ]
  }
 ],
 "metadata": {
  "kernelspec": {
   "display_name": "Python 3",
   "language": "python",
   "name": "python3"
  },
  "language_info": {
   "codemirror_mode": {
    "name": "ipython",
    "version": 3
   },
   "file_extension": ".py",
   "mimetype": "text/x-python",
   "name": "python",
   "nbconvert_exporter": "python",
   "pygments_lexer": "ipython3",
   "version": "3.8.8"
  }
 },
 "nbformat": 4,
 "nbformat_minor": 5
}
